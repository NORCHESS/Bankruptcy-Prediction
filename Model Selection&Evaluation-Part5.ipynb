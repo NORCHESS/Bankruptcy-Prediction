{
 "cells": [
  {
   "cell_type": "markdown",
   "id": "f46486cc",
   "metadata": {},
   "source": [
    "## Now let's choose the techniques from our trials  and build the best 3 models for further ensemble and tuning "
   ]
  },
  {
   "cell_type": "code",
   "execution_count": 34,
   "id": "419e3f73",
   "metadata": {},
   "outputs": [],
   "source": [
    "# As for the evaluation criteria we will take recall score and accuracy \n",
    "# (PCA, LowVar, SelKbest, tree) X (SMOTE, ADASYN) \n",
    "# Out of the 8 possible cases, Univariate feature selection with chi2 test + ADASYN \n",
    "#performed the best so we will proceed with this combination"
   ]
  },
  {
   "cell_type": "code",
   "execution_count": 3,
   "id": "05a68e5a",
   "metadata": {},
   "outputs": [],
   "source": [
    "# Data Prep\n",
    "import numpy as np \n",
    "import pandas as pd \n",
    "import matplotlib.pyplot as plt\n",
    "data = pd.read_csv('data.csv')\n",
    "data.columns = data.columns.str.lstrip()\n",
    "data.isna().sum()\n",
    "# Not enough to see all, so checking differently \n",
    "non_check = [x for x in data if data[x].isna().sum() > 0]\n",
    "# Assignment of X and y \n",
    "data.rename({'Bankrupt?' : 'Bankruptcy'}, axis = 1, inplace=True)\n",
    "y = data['Bankruptcy']\n",
    "X = data.drop('Bankruptcy', axis = 1)"
   ]
  },
  {
   "cell_type": "code",
   "execution_count": 4,
   "id": "d2d76a18",
   "metadata": {},
   "outputs": [],
   "source": [
    "# Libraries for model building \n",
    "from sklearn.svm import SVC\n",
    "from sklearn.neighbors import KNeighborsClassifier\n",
    "from sklearn.linear_model import LogisticRegression \n",
    "from sklearn.ensemble import RandomForestClassifier, AdaBoostClassifier\n",
    "from sklearn.ensemble import ExtraTreesClassifier,GradientBoostingClassifier\n",
    "from sklearn.neural_network import MLPClassifier\n",
    "from sklearn.metrics import roc_auc_score,roc_curve\n",
    "from sklearn.model_selection import cross_validate\n",
    "from xgboost import XGBClassifier\n",
    "from lightgbm import LGBMClassifier\n",
    "from catboost import CatBoostClassifier\n",
    "#pipeline building\n",
    "from imblearn.pipeline import Pipeline\n",
    "from sklearn.model_selection import RepeatedStratifiedKFold\n",
    "from sklearn.model_selection import StratifiedKFold"
   ]
  },
  {
   "cell_type": "code",
   "execution_count": 5,
   "id": "03fd9773",
   "metadata": {},
   "outputs": [],
   "source": [
    "from imblearn.over_sampling import ADASYN\n",
    "from imblearn.over_sampling import SMOTE \n",
    "from sklearn.preprocessing import MinMaxScaler\n",
    "from sklearn.feature_selection import VarianceThreshold\n",
    "from sklearn.feature_selection import chi2, SelectKBest"
   ]
  },
  {
   "cell_type": "code",
   "execution_count": 6,
   "id": "91aaed5a",
   "metadata": {},
   "outputs": [],
   "source": [
    "## The top performing models are selected for further analysis: \n",
    "# xgb_clf, cat_clf, lgb_clf\n",
    "from xgboost import XGBClassifier\n",
    "from catboost import CatBoostClassifier\n",
    "from lightgbm import LGBMClassifier\n",
    "from sklearn.model_selection import GridSearchCV\n",
    "from imblearn.pipeline import Pipeline\n",
    "xgb_model = XGBClassifier(use_label_encoder=False) \n",
    "catboost_model = CatBoostClassifier()\n",
    "lightgbm_model = LGBMClassifier()"
   ]
  },
  {
   "cell_type": "code",
   "execution_count": 33,
   "id": "3fea93b7",
   "metadata": {},
   "outputs": [],
   "source": [
    " # Split\n",
    "from sklearn.model_selection import train_test_split\n",
    "X_train, X_test, y_train, y_test = train_test_split(X, y, test_size=0.25, stratify=y, random_state=0)\n",
    "\n",
    "# Remove features with low variance\n",
    "sel = VarianceThreshold(threshold=0.1)\n",
    "sel.fit(X_train)\n",
    "X_train = sel.transform(X_train)\n",
    "X_test = sel.transform(X_test)\n",
    "\n",
    "# Standardize \n",
    "min_max_scaler = MinMaxScaler()\n",
    "X_train = min_max_scaler.fit_transform(X_train)\n",
    "X_test = min_max_scaler.transform(X_test)\n",
    "\n",
    "from imblearn.over_sampling import ADASYN\n",
    "oversample = ADASYN()\n",
    "X_train, y_train = oversample.fit_resample(X_train, y_train)"
   ]
  },
  {
   "cell_type": "code",
   "execution_count": 1,
   "id": "074d1fa7",
   "metadata": {},
   "outputs": [],
   "source": [
    "#pipe = Pipeline([\n",
    "#    ('feature sel', VarianceThreshold(0.1)),\n",
    "#    ('scaler', MinMaxScaler()),\n",
    "#    ('selection', ADASYN()), \n",
    "#    ('classifier', catboost_model)\n",
    "#])\n",
    "\n",
    "#params_xgb = {'classifier__gamma' : [0.5, 1], \n",
    "#             'classifier__learning_rate' : [ 0.01, 0.05], \n",
    "#             'classifier__max_depth' : [2, 3]}\n",
    "\n",
    "#params_cat = {'classifier__learning_rate' : [0.01, 0.02, 0.005], \n",
    "#             'classifier__max_depth' : [1, 2, 3]}\n",
    "#params_lgb = {'classifier__num_leaves' : [2, 4, 6], \n",
    "#             'classifier__max_depth' : [2,4,6], \n",
    "#             'classifier__learning_rate' : [0.01, 0.03, 0.05]}\n",
    "\n",
    "\n",
    "\n",
    "#grid = GridSearchCV(pipe,param_grid=params_cat, cv=cv, scoring='recall', return_train_score=True).fit(X, y)"
   ]
  },
  {
   "cell_type": "code",
   "execution_count": 7,
   "id": "d6200bdf",
   "metadata": {},
   "outputs": [],
   "source": [
    "xgb_model = XGBClassifier(use_label_encoder=False, gamma =1, learning_rate=0.05, max_depth=2, eval_metric='error') \n",
    "catboost_model = CatBoostClassifier(learning_rate=0.01, max_depth=1, silent=True)\n",
    "lightgbm_model = LGBMClassifier(learning_rate=0.05, max_depth=4, num_leaves=4)\n",
    "built_models = [xgb_model, catboost_model, lightgbm_model]\n",
    "models_names = ['xgb_model', 'catboost_model', 'lightgbm_model']\n",
    "metrics = ['acc_test', 'acc_train',\n",
    "            'f1_test', 'f1_train',\n",
    "            'rec_test', 'rec_train', \n",
    "            'prec_test', 'prec_train', \n",
    "            'auc_test', 'auc_train']\n",
    "cv = RepeatedStratifiedKFold(n_splits=10, n_repeats=1, random_state=0)"
   ]
  },
  {
   "cell_type": "code",
   "execution_count": 65,
   "id": "460fa568",
   "metadata": {},
   "outputs": [],
   "source": [
    "# Evaluation metrics of our top performing three algorithms after hyperparameter tuning \n",
    "df_scores = pd.DataFrame(np.zeros((len(built_models), len(metrics))), columns=metrics)\n",
    "for index, model in enumerate(built_models):\n",
    "    scores = {'acc': 'accuracy',\n",
    "               'f1_score': 'f1',\n",
    "                   'recall': 'recall', \n",
    "                      'precision' : 'precision', \n",
    "                             'roc_auc': 'roc_auc'}\n",
    "    \n",
    "    pipe = Pipeline([\n",
    "        ('feature sel', SelectKBest(chi2, k=30)),\n",
    "        ('scaler', MinMaxScaler()),\n",
    "        ('selection', ADASYN()), \n",
    "        ('classifier', model)\n",
    "    ])\n",
    "    \n",
    "    scores = cross_validate(pipe, X, y, scoring=scores, cv=cv, return_train_score=True)\n",
    "    val_scores = pd.DataFrame(scores).drop(['fit_time', 'score_time'], axis = 1)\n",
    "    df_scores.iloc[index, :] = val_scores.mean(axis=0) \n",
    "    df_scores.rename({index : models_names[index]}, axis = 0, inplace=True)"
   ]
  },
  {
   "cell_type": "code",
   "execution_count": 66,
   "id": "635db78a",
   "metadata": {},
   "outputs": [
    {
     "data": {
      "text/html": [
       "<div>\n",
       "<style scoped>\n",
       "    .dataframe tbody tr th:only-of-type {\n",
       "        vertical-align: middle;\n",
       "    }\n",
       "\n",
       "    .dataframe tbody tr th {\n",
       "        vertical-align: top;\n",
       "    }\n",
       "\n",
       "    .dataframe thead th {\n",
       "        text-align: right;\n",
       "    }\n",
       "</style>\n",
       "<table border=\"1\" class=\"dataframe\">\n",
       "  <thead>\n",
       "    <tr style=\"text-align: right;\">\n",
       "      <th></th>\n",
       "      <th>acc_test</th>\n",
       "      <th>acc_train</th>\n",
       "      <th>f1_test</th>\n",
       "      <th>f1_train</th>\n",
       "      <th>rec_test</th>\n",
       "      <th>rec_train</th>\n",
       "      <th>prec_test</th>\n",
       "      <th>prec_train</th>\n",
       "      <th>auc_test</th>\n",
       "      <th>auc_train</th>\n",
       "    </tr>\n",
       "  </thead>\n",
       "  <tbody>\n",
       "    <tr>\n",
       "      <th>xgb_model</th>\n",
       "      <td>0.898077</td>\n",
       "      <td>0.907367</td>\n",
       "      <td>0.335171</td>\n",
       "      <td>0.376596</td>\n",
       "      <td>0.795455</td>\n",
       "      <td>0.866667</td>\n",
       "      <td>0.212593</td>\n",
       "      <td>0.240606</td>\n",
       "      <td>0.931053</td>\n",
       "      <td>0.955313</td>\n",
       "    </tr>\n",
       "    <tr>\n",
       "      <th>catboost_model</th>\n",
       "      <td>0.896319</td>\n",
       "      <td>0.898894</td>\n",
       "      <td>0.328469</td>\n",
       "      <td>0.351742</td>\n",
       "      <td>0.790909</td>\n",
       "      <td>0.850000</td>\n",
       "      <td>0.207791</td>\n",
       "      <td>0.221766</td>\n",
       "      <td>0.925600</td>\n",
       "      <td>0.942887</td>\n",
       "    </tr>\n",
       "    <tr>\n",
       "      <th>lightgbm_model</th>\n",
       "      <td>0.903798</td>\n",
       "      <td>0.910218</td>\n",
       "      <td>0.354229</td>\n",
       "      <td>0.386365</td>\n",
       "      <td>0.809091</td>\n",
       "      <td>0.875758</td>\n",
       "      <td>0.227592</td>\n",
       "      <td>0.247890</td>\n",
       "      <td>0.931082</td>\n",
       "      <td>0.955064</td>\n",
       "    </tr>\n",
       "  </tbody>\n",
       "</table>\n",
       "</div>"
      ],
      "text/plain": [
       "                acc_test  acc_train   f1_test  f1_train  rec_test  rec_train  \\\n",
       "xgb_model       0.898077   0.907367  0.335171  0.376596  0.795455   0.866667   \n",
       "catboost_model  0.896319   0.898894  0.328469  0.351742  0.790909   0.850000   \n",
       "lightgbm_model  0.903798   0.910218  0.354229  0.386365  0.809091   0.875758   \n",
       "\n",
       "                prec_test  prec_train  auc_test  auc_train  \n",
       "xgb_model        0.212593    0.240606  0.931053   0.955313  \n",
       "catboost_model   0.207791    0.221766  0.925600   0.942887  \n",
       "lightgbm_model   0.227592    0.247890  0.931082   0.955064  "
      ]
     },
     "execution_count": 66,
     "metadata": {},
     "output_type": "execute_result"
    }
   ],
   "source": [
    "df_scores"
   ]
  },
  {
   "cell_type": "code",
   "execution_count": 8,
   "id": "18bb3657",
   "metadata": {},
   "outputs": [],
   "source": [
    "cv = RepeatedStratifiedKFold(n_splits=10, n_repeats=1)"
   ]
  },
  {
   "cell_type": "code",
   "execution_count": 14,
   "id": "e33e6b8e",
   "metadata": {},
   "outputs": [],
   "source": [
    "### Trying ensemble techniques, max_vote_classfier \n",
    "from sklearn.ensemble import VotingClassifier\n",
    "ensemble_model = VotingClassifier(estimators=[('xgb', xgb_model), \n",
    "                                              ('cat', catboost_model), \n",
    "                                               ('lgbm', lightgbm_model)], voting='hard')"
   ]
  },
  {
   "cell_type": "code",
   "execution_count": 17,
   "id": "bb69b52e",
   "metadata": {},
   "outputs": [],
   "source": [
    "# Ensemble (max voting classifier - XGBoost, Catboost and Light GBM)\n",
    "scores=['accuracy','recall']\n",
    "    \n",
    "pipe = Pipeline([\n",
    "        ('feature sel', SelectKBest(chi2, k=30)),\n",
    "        ('scaler', MinMaxScaler()),\n",
    "        ('selection', ADASYN()), \n",
    "        ('classifier', ensemble_model)\n",
    "    ])\n",
    "\n",
    "scores = cross_validate(pipe, X, y, scoring=scores, cv=cv, return_train_score=True)\n",
    "val_scores = pd.DataFrame(scores).drop(['fit_time', 'score_time'], axis = 1)\n",
    "ensemble_scores=val_scores.mean(axis=0)"
   ]
  },
  {
   "cell_type": "code",
   "execution_count": 70,
   "id": "12157543",
   "metadata": {},
   "outputs": [
    {
     "data": {
      "text/plain": [
       "test_accuracy     0.902479\n",
       "train_accuracy    0.907073\n",
       "test_recall       0.813636\n",
       "train_recall      0.868182\n",
       "dtype: float64"
      ]
     },
     "execution_count": 70,
     "metadata": {},
     "output_type": "execute_result"
    }
   ],
   "source": [
    "# This is the result of the ensemble model, when using max voting classifier \n",
    "ensemble_scores"
   ]
  }
 ],
 "metadata": {
  "kernelspec": {
   "display_name": "Python 3 (ipykernel)",
   "language": "python",
   "name": "python3"
  },
  "language_info": {
   "codemirror_mode": {
    "name": "ipython",
    "version": 3
   },
   "file_extension": ".py",
   "mimetype": "text/x-python",
   "name": "python",
   "nbconvert_exporter": "python",
   "pygments_lexer": "ipython3",
   "version": "3.9.7"
  }
 },
 "nbformat": 4,
 "nbformat_minor": 5
}
